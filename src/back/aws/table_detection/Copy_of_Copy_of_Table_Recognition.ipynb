{
  "cells": [
    {
      "cell_type": "markdown",
      "metadata": {
        "id": "1fYeYVp2klFt"
      },
      "source": [
        "# Table Detection\n",
        "## 1. Install all the prerequisite\n"
      ]
    },
    {
      "cell_type": "code",
      "execution_count": 3,
      "metadata": {
        "colab": {
          "base_uri": "https://localhost:8080/"
        },
        "id": "s9dI-UTk2JEG",
        "outputId": "0743296e-f7f1-4462-ac6d-81bca7a92663"
      },
      "outputs": [
        {
          "name": "stdout",
          "output_type": "stream",
          "text": [
            "Defaulting to user installation because normal site-packages is not writeable\n",
            "Requirement already satisfied: pyyaml==6.0 in /home/jon/.local/lib/python3.10/site-packages (6.0)\n",
            "Defaulting to user installation because normal site-packages is not writeable\n",
            "\u001b[31mERROR: Could not find a version that satisfies the requirement torch==1.10 (from versions: 1.11.0, 1.12.0, 1.12.1, 1.13.0, 1.13.1, 2.0.0, 2.0.1, 2.1.0, 2.1.1, 2.1.2, 2.2.0)\u001b[0m\u001b[31m\n",
            "\u001b[0m\u001b[31mERROR: No matching distribution found for torch==1.10\u001b[0m\u001b[31m\n",
            "\u001b[0mDefaulting to user installation because normal site-packages is not writeable\n",
            "\u001b[31mERROR: Could not find a version that satisfies the requirement torchvision==0.11.1 (from versions: 0.1.6, 0.1.7, 0.1.8, 0.1.9, 0.2.0, 0.2.1, 0.2.2, 0.2.2.post2, 0.2.2.post3, 0.12.0, 0.13.0, 0.13.1, 0.14.0, 0.14.1, 0.15.0, 0.15.1, 0.15.2, 0.16.0, 0.16.1, 0.16.2, 0.17.0)\u001b[0m\u001b[31m\n",
            "\u001b[0m\u001b[31mERROR: No matching distribution found for torchvision==0.11.1\u001b[0m\u001b[31m\n",
            "\u001b[0m2.2.0+cpu False\n",
            "gcc (Ubuntu 11.4.0-1ubuntu1~22.04) 11.4.0\n",
            "Copyright (C) 2021 Free Software Foundation, Inc.\n",
            "This is free software; see the source for copying conditions.  There is NO\n",
            "warranty; not even for MERCHANTABILITY or FITNESS FOR A PARTICULAR PURPOSE.\n",
            "\n",
            "/bin/bash: line 1: nvcc: command not found\n",
            "Defaulting to user installation because normal site-packages is not writeable\n",
            "Requirement already satisfied: pytesseract in /home/jon/.local/lib/python3.10/site-packages (0.3.10)\n",
            "Requirement already satisfied: packaging>=21.3 in /home/jon/.local/lib/python3.10/site-packages (from pytesseract) (23.2)\n",
            "Requirement already satisfied: Pillow>=8.0.0 in /usr/lib/python3/dist-packages (from pytesseract) (9.0.1)\n"
          ]
        },
        {
          "ename": "AssertionError",
          "evalue": "",
          "output_type": "error",
          "traceback": [
            "\u001b[0;31m---------------------------------------------------------------------------\u001b[0m",
            "\u001b[0;31mAssertionError\u001b[0m                            Traceback (most recent call last)",
            "Cell \u001b[0;32mIn[3], line 16\u001b[0m\n\u001b[1;32m     14\u001b[0m \u001b[38;5;28;01mimport\u001b[39;00m \u001b[38;5;21;01mtorch\u001b[39;00m\u001b[38;5;241m,\u001b[39m \u001b[38;5;21;01mtorchvision\u001b[39;00m\n\u001b[1;32m     15\u001b[0m torch\u001b[38;5;241m.\u001b[39m__version__\n\u001b[0;32m---> 16\u001b[0m \u001b[38;5;28;01massert\u001b[39;00m torch\u001b[38;5;241m.\u001b[39m__version__\u001b[38;5;241m.\u001b[39mstartswith(\u001b[38;5;124m\"\u001b[39m\u001b[38;5;124m1.10.0\u001b[39m\u001b[38;5;124m\"\u001b[39m)\n\u001b[1;32m     17\u001b[0m \u001b[38;5;28;01mimport\u001b[39;00m \u001b[38;5;21;01msys\u001b[39;00m\u001b[38;5;241m,\u001b[39m \u001b[38;5;21;01mos\u001b[39;00m\u001b[38;5;241m,\u001b[39m \u001b[38;5;21;01mdistutils\u001b[39;00m\u001b[38;5;21;01m.\u001b[39;00m\u001b[38;5;21;01mcore\u001b[39;00m\n\u001b[1;32m     19\u001b[0m get_ipython()\u001b[38;5;241m.\u001b[39msystem(\u001b[38;5;124m\"\u001b[39m\u001b[38;5;124mgit clone \u001b[39m\u001b[38;5;124m'\u001b[39m\u001b[38;5;124mhttps://github.com/facebookresearch/detectron2\u001b[39m\u001b[38;5;124m'\u001b[39m\u001b[38;5;124m\"\u001b[39m)\n",
            "\u001b[0;31mAssertionError\u001b[0m: "
          ]
        }
      ],
      "source": [
        "# install dependencies:\n",
        "!pip install pyyaml==6.0\n",
        "!pip install torch==1.10\n",
        "!pip install torchvision==0.11.1\n",
        "import torch, torchvision\n",
        "print(torch.__version__, torch.cuda.is_available())\n",
        "!gcc --version\n",
        "\n",
        "# check CUDA version\n",
        "!nvcc --version\n",
        "\n",
        "!pip install pytesseract\n",
        "\n",
        "import torch, torchvision\n",
        "torch.__version__\n",
        "assert torch.__version__.startswith(\"1.10.0\")\n",
        "import sys, os, distutils.core\n",
        "\n",
        "!git clone 'https://github.com/facebookresearch/detectron2'\n",
        "dist = distutils.core.run_setup(\"./detectron2/setup.py\")\n",
        "!python -m pip install {' '.join([f\"'{x}'\" for x in dist.install_requires])}\n",
        "sys.path.insert(0, os.path.abspath('./detectron2'))"
      ]
    },
    {
      "cell_type": "code",
      "execution_count": null,
      "metadata": {
        "id": "phdrlKWqpeuN"
      },
      "outputs": [],
      "source": []
    },
    {
      "cell_type": "code",
      "execution_count": null,
      "metadata": {
        "id": "c48S9JFlVG2-"
      },
      "outputs": [],
      "source": [
        "!pip install PyPDF2"
      ]
    },
    {
      "cell_type": "markdown",
      "metadata": {
        "id": "pQUnnsinlQVT"
      },
      "source": [
        "## 2. Clone the Repository"
      ]
    },
    {
      "cell_type": "code",
      "execution_count": null,
      "metadata": {
        "id": "XTodlMS3k6gL"
      },
      "outputs": [],
      "source": [
        "!git clone https://github.com/Psarpei/Multi-Type-TD-TSR.git\n",
        "!mv Multi-Type-TD-TSR/ Multi_Type_TD_TSR"
      ]
    },
    {
      "cell_type": "markdown",
      "metadata": {
        "id": "NzywSWN0mPqt"
      },
      "source": [
        "## 3. Download Table Detection Weights and Configuration File"
      ]
    },
    {
      "cell_type": "code",
      "execution_count": null,
      "metadata": {
        "id": "9PM35KxbmQBp"
      },
      "outputs": [],
      "source": [
        "!pip install -U --no-cache-dir gdown --pre\n",
        "!gdown \"11FgFTy0MyVUMGd00T_InEDaarB4qAlP8&confirm=t\""
      ]
    },
    {
      "cell_type": "code",
      "execution_count": null,
      "metadata": {
        "id": "b3HaxGg_ooHM"
      },
      "outputs": [],
      "source": [
        "!gdown \"1WBk6kHHyvyEzoPBsRr2BvFY51zURjd4R&confirm=t\""
      ]
    },
    {
      "cell_type": "code",
      "execution_count": null,
      "metadata": {
        "id": "ECeyoTVSosDk"
      },
      "outputs": [],
      "source": [
        "!gdown \"1PfA2uws919gc893-x9uMIz06zWEko8nF&confirm=t\""
      ]
    },
    {
      "cell_type": "code",
      "execution_count": null,
      "metadata": {
        "id": "iuP9jJiiTnF7"
      },
      "outputs": [],
      "source": [
        "!pip install pypdf2"
      ]
    },
    {
      "cell_type": "markdown",
      "metadata": {
        "id": "rAcoWOJhuy9f"
      },
      "source": [
        "## 4. Import Everything"
      ]
    },
    {
      "cell_type": "code",
      "execution_count": null,
      "metadata": {
        "id": "APmN3Hzy2hBT"
      },
      "outputs": [],
      "source": [
        "import detectron2\n",
        "import Multi_Type_TD_TSR.google_colab.deskew as deskew\n",
        "import Multi_Type_TD_TSR.google_colab.table_detection as table_detection\n",
        "import Multi_Type_TD_TSR.google_colab.table_structure_recognition_all as tsra\n",
        "import Multi_Type_TD_TSR.google_colab.table_structure_recognition_lines as tsrl\n",
        "import Multi_Type_TD_TSR.google_colab.table_structure_recognition_wol as tsrwol\n",
        "import Multi_Type_TD_TSR.google_colab.table_structure_recognition_lines_wol as tsrlwol\n",
        "import pandas as pd\n",
        "import os\n",
        "import json\n",
        "import itertools\n",
        "import random\n",
        "import glob\n",
        "from detectron2.utils.logger import setup_logger\n",
        "# import some common libraries\n",
        "import numpy as np\n",
        "import cv2\n",
        "import matplotlib.pyplot as plt\n",
        "# import some common detectron2 utilities\n",
        "from detectron2 import model_zoo\n",
        "from detectron2.engine import DefaultPredictor\n",
        "from detectron2.config import get_cfg\n",
        "from detectron2.utils.visualizer import Visualizer\n",
        "from detectron2.data import MetadataCatalog\n",
        "from detectron2.data import DatasetCatalog, MetadataCatalog\n",
        "from google.colab.patches import cv2_imshow\n",
        "setup_logger()"
      ]
    },
    {
      "cell_type": "markdown",
      "metadata": {
        "id": "gfC4Tc0qyY-k"
      },
      "source": [
        "## 5. Initialize Table Detection Detector"
      ]
    },
    {
      "cell_type": "code",
      "execution_count": null,
      "metadata": {
        "id": "40USlclsyW4K"
      },
      "outputs": [],
      "source": [
        "#create detectron config\n",
        "cfg = get_cfg()\n",
        "\n",
        "#set yaml\n",
        "cfg.merge_from_file('/content/All_X152.yaml')\n",
        "\n",
        "#set model weights\n",
        "cfg.MODEL.WEIGHTS = '/content/model_final.pth' # Set path model .pth\n",
        "\n",
        "predictor = DefaultPredictor(cfg)"
      ]
    },
    {
      "cell_type": "markdown",
      "metadata": {
        "id": "ZULY2YyDJoYH"
      },
      "source": [
        "# Table Detection"
      ]
    },
    {
      "cell_type": "code",
      "execution_count": null,
      "metadata": {
        "id": "4PgBU9Un77cF"
      },
      "outputs": [],
      "source": [
        "!pip install pdf2image\n",
        "!apt-get install poppler-utils"
      ]
    },
    {
      "cell_type": "code",
      "execution_count": null,
      "metadata": {
        "id": "xKuMpvAXBvD4"
      },
      "outputs": [],
      "source": [
        "import glob\n",
        "import os\n",
        "from pdf2image import convert_from_path\n",
        "from IPython.display import display, Image\n",
        "import shutil\n",
        "\n",
        "files = glob.glob(\"/content/drive/MyDrive/PDFs/*.*\")\n",
        "pages = {}\n",
        "\n",
        "for file in files:\n",
        "  images = convert_from_path(file)\n",
        "  pages[file] = {}\n",
        "  for i in range(len(images)):\n",
        "    print('---------------------------------------------')\n",
        "    print('filename:', file.split('/')[-1], 'page:', str(i + 1))\n",
        "    print('---------------------------------------------')\n",
        "    print('\\n\\n\\n\\n')\n",
        "    document_img = cv2.resize(np.array(images[i]), None, fx=0.5, fy=0.5)\n",
        "    #document_img = deskew.deskewImage(document_img)\n",
        "    table_list, table_coords = table_detection.make_prediction(document_img, predictor)\n",
        "\n",
        "    if table_list > 0:\n",
        "      img = Image.fromarray(np.array(images[i]), \"RGB\")\n",
        "      img.save(f'{str(file.split('/')[-1])}-{str(i + 1)}')\n",
        "\n"
      ]
    },
    {
      "cell_type": "markdown",
      "metadata": {
        "id": "-frmqvyIhL2r"
      },
      "source": [
        "@misc{fischer2021multitypetdtsr,\n",
        "    title={Multi-Type-TD-TSR - Extracting Tables from Document Images using a Multi-stage Pipeline for Table Detection and Table Structure Recognition: from OCR to Structured Table Representations},\n",
        "    author={Pascal Fischer and Alen Smajic and Alexander Mehler and Giuseppe Abrami},\n",
        "    year={2021},\n",
        "    eprint={2105.11021},\n",
        "    archivePrefix={arXiv},\n",
        "    primaryClass={cs.CV}\n",
        "}"
      ]
    }
  ],
  "metadata": {
    "accelerator": "GPU",
    "colab": {
      "gpuType": "T4",
      "provenance": []
    },
    "gpuClass": "standard",
    "kernelspec": {
      "display_name": "Python 3",
      "name": "python3"
    },
    "language_info": {
      "codemirror_mode": {
        "name": "ipython",
        "version": 3
      },
      "file_extension": ".py",
      "mimetype": "text/x-python",
      "name": "python",
      "nbconvert_exporter": "python",
      "pygments_lexer": "ipython3",
      "version": "3.10.12"
    }
  },
  "nbformat": 4,
  "nbformat_minor": 0
}
